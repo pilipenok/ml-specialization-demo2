{
 "cells": [
  {
   "cell_type": "code",
   "execution_count": 2,
   "outputs": [
    {
     "name": "stdout",
     "output_type": "stream",
     "text": [
      "env: GOOGLE_CLOUD_PROJECT=or2--epm-gcp-by-meetup2-t1iylu\n",
      "/Users/oleg/Projects/EPAM/taxi/ml-specialization-demo2/tfx-pipeline\n"
     ]
    }
   ],
   "source": [
    "GOOGLE_CLOUD_PROJECT=\"or2--epm-gcp-by-meetup2-t1iylu\"\n",
    "%env GOOGLE_CLOUD_PROJECT={GOOGLE_CLOUD_PROJECT}\n",
    "# %env GOOGLE_APPLICATION_CREDENTIALS=/Users/oleg/Projects/EPAM/creds.json\n",
    "%cd /Users/oleg/Projects/EPAM/taxi/ml-specialization-demo2/tfx-pipeline\n",
    "\n",
    "from pipeline import configs, components\n",
    "from tfx.orchestration.experimental.interactive.interactive_context import InteractiveContext\n",
    "import tfx\n",
    "context = InteractiveContext(\n",
    "    pipeline_root=configs.PIPELINE_ROOT,\n",
    "    metadata_connection_config=tfx.orchestration.metadata.sqlite_metadata_connection_config(\n",
    "              '/Users/oleg/Projects/EPAM/taxi/ml-specialization-demo2/metadata.db'\n",
    "    )\n",
    ")"
   ],
   "metadata": {
    "collapsed": false,
    "pycharm": {
     "name": "#%%\n"
    }
   }
  },
  {
   "cell_type": "code",
   "execution_count": null,
   "outputs": [],
   "source": [
    "from tfx.dsl.components.common.importer import Importer\n",
    "examples = Importer(\n",
    "    source_uri='gs://epm-spec-black-friday/tfx_pipeline_output/tfx-pipeline-ml-demo2-black-friday/877218744686/tfx-pipeline-ml-demo2-black-friday-20210929192258/CsvExampleGen_-7548622313705439232/examples',\n",
    "    artifact_type=tfx.types.standard_artifacts.Examples,\n",
    "    reimport=True)\n",
    "\n",
    "context.run(examples)\n",
    "\n",
    "examples=examples.outputs['result']"
   ],
   "metadata": {
    "collapsed": false,
    "pycharm": {
     "name": "#%%\n"
    }
   }
  },
  {
   "cell_type": "code",
   "execution_count": null,
   "outputs": [],
   "source": [
    "trainer = components.trainer_vertex(\n",
    "    examples=examples,\n",
    "#    schema_gen=schema_gen,\n",
    "#    transform=transform\n",
    ")\n",
    "context.run(trainer)\n"
   ],
   "metadata": {
    "collapsed": false,
    "pycharm": {
     "name": "#%%\n"
    }
   }
  },
  {
   "cell_type": "code",
   "execution_count": null,
   "outputs": [],
   "source": [],
   "metadata": {
    "collapsed": false,
    "pycharm": {
     "name": "#%%\n"
    }
   }
  }
 ],
 "metadata": {
  "kernelspec": {
   "display_name": "Python 3",
   "language": "python",
   "name": "python3"
  },
  "language_info": {
   "codemirror_mode": {
    "name": "ipython",
    "version": 2
   },
   "file_extension": ".py",
   "mimetype": "text/x-python",
   "name": "python",
   "nbconvert_exporter": "python",
   "pygments_lexer": "ipython2",
   "version": "2.7.6"
  }
 },
 "nbformat": 4,
 "nbformat_minor": 0
}